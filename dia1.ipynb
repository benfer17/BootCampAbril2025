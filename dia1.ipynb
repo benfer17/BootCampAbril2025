{
 "cells": [
  {
   "cell_type": "code",
   "execution_count": 32,
   "id": "dd7fe57e",
   "metadata": {},
   "outputs": [
    {
     "name": "stdout",
     "output_type": "stream",
     "text": [
      "Uds ha elegido un lavarropas de color blanco y de 50 litros\n"
     ]
    }
   ],
   "source": [
    "# prueba con input\n",
    "color = input('escoger color')\n",
    "capacidad = input('escoger capacidad en litros')\n",
    "\n",
    "def comprar_lavarropas(color, capacidad):\n",
    "    print(f'Uds ha elegido un lavarropas de color {color} y de {capacidad} litros')\n",
    "\n",
    "comprar_lavarropas(color, capacidad)\n"
   ]
  },
  {
   "cell_type": "code",
   "execution_count": 36,
   "id": "65e2019b",
   "metadata": {},
   "outputs": [
    {
     "name": "stdout",
     "output_type": "stream",
     "text": [
      "estoy cocinando carne\n"
     ]
    }
   ],
   "source": [
    "def preparar_comida():\n",
    "    ingrediente = 'carne'\n",
    "    print(f'estoy cocinando {ingrediente}')\n",
    "\n",
    "preparar_comida()"
   ]
  },
  {
   "cell_type": "code",
   "execution_count": 30,
   "id": "8b22f76c",
   "metadata": {},
   "outputs": [
    {
     "name": "stdout",
     "output_type": "stream",
     "text": [
      "Uds ha elegido una hervidora de color rojo y de 2 litros\n"
     ]
    }
   ],
   "source": [
    "# Challenge 5\n",
    "def comprar_hervidora(color, capacidad):\n",
    "    print(f'Uds ha elegido una hervidora de color {color} y de {capacidad} litros')\n",
    "\n",
    "comprar_hervidora('rojo', '2')"
   ]
  },
  {
   "cell_type": "code",
   "execution_count": 25,
   "id": "c2c2c5d0",
   "metadata": {},
   "outputs": [
    {
     "name": "stdout",
     "output_type": "stream",
     "text": [
      "Abrir el pan\n",
      "agregar huevo\n",
      "Cerrar pan\n",
      "Listo!\n",
      "Abrir el pan\n",
      "agregar tomate y lechuga\n",
      "Cerrar pan\n",
      "Listo!\n"
     ]
    }
   ],
   "source": [
    "def preparar_sandwinch(ingredientes):\n",
    "    print('Abrir el pan')\n",
    "    print(f'agregar {ingredientes}')\n",
    "    print('Cerrar pan')\n",
    "    print('Listo!')\n",
    "\n",
    "preparar_sandwinch('huevo')\n",
    "preparar_sandwinch('tomate y lechuga')"
   ]
  },
  {
   "cell_type": "code",
   "execution_count": null,
   "id": "ff99f988",
   "metadata": {},
   "outputs": [],
   "source": []
  },
  {
   "cell_type": "code",
   "execution_count": 23,
   "id": "64ae61f9",
   "metadata": {},
   "outputs": [
    {
     "name": "stdout",
     "output_type": "stream",
     "text": [
      "seleccionar un cafe de preferencia\n",
      "calentar agua a punto de ebullicion\n",
      "en una taza poner dos o tres cucharaditas de cafe\n",
      "verter el agua sobre el cafe\n",
      "endulzar si gusta y revolver\n",
      "disfruta\n"
     ]
    }
   ],
   "source": [
    "# Challenge 4\n",
    "def preparar_cafe():\n",
    "    print('seleccionar un cafe de preferencia')\n",
    "    print('calentar agua a punto de ebullicion')\n",
    "    print('en una taza poner dos o tres cucharaditas de cafe')\n",
    "    print('verter el agua sobre el cafe')\n",
    "    print('endulzar si gusta y revolver')\n",
    "    print('disfruta')\n",
    "preparar_cafe()"
   ]
  },
  {
   "cell_type": "code",
   "execution_count": 24,
   "id": "bd4006a6",
   "metadata": {},
   "outputs": [
    {
     "name": "stdout",
     "output_type": "stream",
     "text": [
      "seleccionar un cafe de preferencia\n",
      "calentar agua a punto de ebullicion\n",
      "en una taza poner dos o tres cucharaditas de cafe\n",
      "verter el agua sobre el cafe\n",
      "endulzar si gusta y revolver\n",
      "disfruta\n",
      "seleccionar un cafe de preferencia\n",
      "calentar agua a punto de ebullicion\n",
      "en una taza poner dos o tres cucharaditas de cafe\n",
      "verter el agua sobre el cafe\n",
      "endulzar si gusta y revolver\n",
      "disfruta\n",
      "seleccionar un cafe de preferencia\n",
      "calentar agua a punto de ebullicion\n",
      "en una taza poner dos o tres cucharaditas de cafe\n",
      "verter el agua sobre el cafe\n",
      "endulzar si gusta y revolver\n",
      "disfruta\n"
     ]
    }
   ],
   "source": [
    "def preparar_sandwinch():\n",
    "    print('Abrir el pan')\n",
    "    print('Agregar jamon')\n",
    "    print('Agregar queso')\n",
    "    print('Cerrar pan')\n",
    "    print('Listo!')\n",
    "\n",
    "preparar_cafe()\n",
    "preparar_cafe()\n",
    "preparar_cafe()"
   ]
  },
  {
   "cell_type": "code",
   "execution_count": null,
   "id": "a521196a",
   "metadata": {},
   "outputs": [
    {
     "name": "stdout",
     "output_type": "stream",
     "text": [
      "16\n"
     ]
    }
   ],
   "source": [
    "# challenge 3\n",
    "numero1 = input(\"ingrese un número\")\n",
    "numero2 = input(\"ingrese el siguiente número\")\n",
    "\n",
    "suma = int(numero1) + int(numero2)\n",
    "print(suma)"
   ]
  },
  {
   "cell_type": "code",
   "execution_count": 17,
   "id": "a2bd04fa",
   "metadata": {},
   "outputs": [
    {
     "name": "stdout",
     "output_type": "stream",
     "text": [
      "8\n"
     ]
    }
   ],
   "source": [
    "numero1 = input(\"dame un numero\")\n",
    "numero2 = input(\"dame otro numero\")\n",
    "\n",
    "suma = int(numero1) + int(numero2)\n",
    "print(suma)"
   ]
  },
  {
   "cell_type": "code",
   "execution_count": null,
   "id": "e1c4a78a",
   "metadata": {},
   "outputs": [
    {
     "name": "stdout",
     "output_type": "stream",
     "text": [
      "benicio\n"
     ]
    }
   ],
   "source": [
    "nombre = input(\"Cual es tu nombre?\")\n",
    "print(nombre)"
   ]
  },
  {
   "cell_type": "code",
   "execution_count": 14,
   "id": "0e4b9305",
   "metadata": {},
   "outputs": [
    {
     "name": "stdout",
     "output_type": "stream",
     "text": [
      "Hola. Me llamo Samuel Fernandez Mucho gusto.\n"
     ]
    }
   ],
   "source": [
    "nombre = \"Samuel\"\n",
    "apellido = \"Fernandez\"\n",
    "print(\"Hola. Me llamo\", nombre, apellido, \"Mucho gusto.\")"
   ]
  },
  {
   "cell_type": "code",
   "execution_count": 13,
   "id": "e2487082",
   "metadata": {},
   "outputs": [
    {
     "name": "stdout",
     "output_type": "stream",
     "text": [
      "Hola. Me llamo: Samuel Fernandez. Mucho gusto.\n"
     ]
    }
   ],
   "source": [
    "# challenge 2\n",
    "nombre = \"Samuel\"\n",
    "apellido = \"Fernandez\"\n",
    "print(f\"Hola. Me llamo: {nombre} {apellido}. Mucho gusto.\")"
   ]
  },
  {
   "cell_type": "code",
   "execution_count": null,
   "id": "f13055ab",
   "metadata": {},
   "outputs": [
    {
     "name": "stdout",
     "output_type": "stream",
     "text": [
      "17\n",
      "7\n"
     ]
    }
   ],
   "source": [
    "# challenge 1\n",
    "# Suma\n",
    "cantidad_de_manzanas = 10\n",
    "cantidad_de_naranjas = 7\n",
    "cantidad_de_frutas = cantidad_de_manzanas + cantidad_de_naranjas\n",
    "print(cantidad_de_frutas)\n",
    "\n",
    "# Resta\n",
    "frutas_vendidas = 10\n",
    "frutas_restantes = cantidad_de_frutas - frutas_vendidas\n",
    "print(frutas_restantes)\n"
   ]
  },
  {
   "cell_type": "code",
   "execution_count": null,
   "id": "03845f26",
   "metadata": {},
   "outputs": [],
   "source": [
    "precio_total = 15000 + 20000\n",
    "print(precio_total)\n",
    "\n",
    "precio_descuento = precio_total - 5000\n"
   ]
  },
  {
   "cell_type": "code",
   "execution_count": 3,
   "id": "df8666a6",
   "metadata": {},
   "outputs": [
    {
     "name": "stdout",
     "output_type": "stream",
     "text": [
      "\"ale\"\n"
     ]
    }
   ],
   "source": [
    "n = '\"ale\"'\n",
    "print(n)"
   ]
  },
  {
   "cell_type": "code",
   "execution_count": 2,
   "id": "a14ef5c7",
   "metadata": {},
   "outputs": [
    {
     "name": "stdout",
     "output_type": "stream",
     "text": [
      "Benicio\n",
      "Ferreira\n"
     ]
    }
   ],
   "source": [
    "#variable\n",
    "nombre = \"Benicio\"\n",
    "apellido = \"Ferreira\"\n",
    "\n",
    "print(nombre)\n",
    "print(apellido)"
   ]
  },
  {
   "cell_type": "code",
   "execution_count": 1,
   "id": "12a6debb",
   "metadata": {},
   "outputs": [
    {
     "name": "stdout",
     "output_type": "stream",
     "text": [
      "Hola mundo\n"
     ]
    }
   ],
   "source": [
    "print(\"Hola mundo\")"
   ]
  }
 ],
 "metadata": {
  "kernelspec": {
   "display_name": "Python 3",
   "language": "python",
   "name": "python3"
  },
  "language_info": {
   "codemirror_mode": {
    "name": "ipython",
    "version": 3
   },
   "file_extension": ".py",
   "mimetype": "text/x-python",
   "name": "python",
   "nbconvert_exporter": "python",
   "pygments_lexer": "ipython3",
   "version": "3.13.3"
  }
 },
 "nbformat": 4,
 "nbformat_minor": 5
}
