{
 "cells": [
  {
   "cell_type": "code",
   "execution_count": null,
   "id": "2406d6ff",
   "metadata": {},
   "outputs": [],
   "source": [
    "oracion = input(\"escribe una frase:\")\n",
    "contador = 0\n",
    "\n",
    "for letra in oracion:\n",
    "    if letra == \"o\" or letra == \"O\":\n",
    "        contador += 1\n",
    "\n",
    "print(f\"la letra o aparece {contador} veces\")"
   ]
  },
  {
   "cell_type": "code",
   "execution_count": null,
   "id": "95b51722",
   "metadata": {},
   "outputs": [
    {
     "name": "stdout",
     "output_type": "stream",
     "text": [
      "Aguante la 'O'\n"
     ]
    }
   ],
   "source": [
    "### Challenge 🤺 - 15m\n",
    "\n",
    "#Solicitar al usuario que ingrese una frase.\n",
    "#Imprimir un mensaje cada vez que se encuentre una letra \"o\".\n",
    "\n",
    "frase = input('ingresar frase')\n",
    "for letra in frase:\n",
    "    if letra == 'o':\n",
    "      print(\"Aguante la 'O'\")\n",
    "\n",
    "\n",
    "\n"
   ]
  },
  {
   "cell_type": "code",
   "execution_count": null,
   "id": "d817e7d7",
   "metadata": {},
   "outputs": [
    {
     "name": "stdout",
     "output_type": "stream",
     "text": [
      "adidas\n",
      "champios\n"
     ]
    }
   ],
   "source": [
    "#### Challenge 🤺 - 20m\n",
    "\n",
    "#Recorrer los elementos de una lista de marcas e imprimir \n",
    "# cada marca *__solamente__* si tiene 6 letras o más.\n",
    "\n",
    "marcas_de_ropas_deportivas = ['nike', 'adidas', 'kappa', 'fila', 'champios',]\n",
    "for i in marcas_de_ropas_deportivas:\n",
    "    if len(i) >= 6:\n",
    "        print(i)\n"
   ]
  },
  {
   "cell_type": "code",
   "execution_count": 53,
   "id": "e0365f24",
   "metadata": {},
   "outputs": [
    {
     "name": "stdout",
     "output_type": "stream",
     "text": [
      "2\n",
      "4\n",
      "6\n",
      "8\n",
      "10\n",
      "12\n",
      "14\n",
      "16\n",
      "18\n",
      "20\n"
     ]
    }
   ],
   "source": [
    "for factores in range(1, 11):\n",
    "    print(factores * 2)"
   ]
  },
  {
   "cell_type": "code",
   "execution_count": 49,
   "id": "71147a04",
   "metadata": {},
   "outputs": [
    {
     "name": "stdout",
     "output_type": "stream",
     "text": [
      "2\n",
      "4\n",
      "6\n",
      "8\n",
      "10\n",
      "12\n",
      "14\n",
      "16\n",
      "18\n",
      "20\n"
     ]
    }
   ],
   "source": [
    "### Challenge #🤺 - 20m\n",
    "\n",
    "#Escribir un programa que itere en un rango de 10 veces. \n",
    "# Por cada iteracion multiplicar el iterador por dos e imprimir el resultado.\n",
    "\n",
    "numeros = [1,2,3,4,5,6,7,8,9,10]\n",
    "\n",
    "for factores in numeros:\n",
    "    print(factores * 2)\n"
   ]
  },
  {
   "cell_type": "code",
   "execution_count": 47,
   "id": "37f03661",
   "metadata": {},
   "outputs": [
    {
     "name": "stdout",
     "output_type": "stream",
     "text": [
      "carne\n",
      "huevo\n",
      "pollo\n",
      "queso\n",
      "pan\n"
     ]
    }
   ],
   "source": [
    "lista_de_super = ['carne', 'huevo', 'pollo', 'queso', 'pan']\n",
    "\n",
    "for articulo in lista_de_super:\n",
    "    print(articulo)"
   ]
  },
  {
   "cell_type": "code",
   "execution_count": 46,
   "id": "b28ed7f0",
   "metadata": {},
   "outputs": [
    {
     "name": "stdout",
     "output_type": "stream",
     "text": [
      "dia: 1\n",
      "dia: 2\n",
      "dia: 3\n",
      "dia: 4\n",
      "dia: 5\n",
      "dia: 6\n",
      "dia: 7\n"
     ]
    }
   ],
   "source": [
    "dias_de_la_semana = [1, 2, 3, 4, 5, 6, 7]\n",
    "\n",
    "for dia in dias_de_la_semana:\n",
    "    print(f'dia: {dia}')"
   ]
  },
  {
   "cell_type": "code",
   "execution_count": null,
   "id": "92c02765",
   "metadata": {},
   "outputs": [],
   "source": []
  },
  {
   "cell_type": "code",
   "execution_count": 43,
   "id": "ff63cb5f",
   "metadata": {},
   "outputs": [
    {
     "name": "stdout",
     "output_type": "stream",
     "text": [
      "hola buen dia\n",
      "hola buen dia\n",
      "hola buen dia\n",
      "hola buen dia\n",
      "hola buen dia\n"
     ]
    }
   ],
   "source": [
    "for i in range(5):\n",
    "    print('hola buen dia')"
   ]
  },
  {
   "cell_type": "code",
   "execution_count": 45,
   "id": "33a8475c",
   "metadata": {},
   "outputs": [
    {
     "name": "stdout",
     "output_type": "stream",
     "text": [
      "1\n",
      "2\n",
      "3\n",
      "4\n",
      "5\n",
      "6\n",
      "7\n"
     ]
    }
   ],
   "source": [
    "dias_de_la_semana = [1, 2, 3, 4, 5, 6, 7]\n",
    "\n",
    "for dia in dias_de_la_semana:\n",
    "    print(dia)"
   ]
  },
  {
   "cell_type": "code",
   "execution_count": 41,
   "id": "5708983e",
   "metadata": {},
   "outputs": [
    {
     "name": "stdout",
     "output_type": "stream",
     "text": [
      "['carne', 'huevo', 'pollo', 'queso', 'pan', 'sal']\n",
      "['carne', 'fideo', 'pollo', 'queso', 'pan', 'sal']\n",
      "['carne', 'fideo', 'queso', 'pan', 'sal']\n"
     ]
    }
   ],
   "source": [
    "### Challenge 🤺 - 20m\n",
    "\n",
    "#Crear una lista de 5 elementos. Luego, seguir los siguientes pasos.\n",
    "#- Agregar un elemento al final de la lista.\n",
    "#- Modificar el segundo elemento.\n",
    "#- Eliminar el tercer elemento.\n",
    "\n",
    "lista_de_super = ['carne', 'huevo', 'pollo', 'queso', 'pan']\n",
    "lista_de_super.append('sal')\n",
    "print(lista_de_super)\n",
    "lista_de_super[1] = 'fideo'\n",
    "print(lista_de_super)\n",
    "lista_de_super.pop(2)\n",
    "print(lista_de_super)"
   ]
  },
  {
   "cell_type": "code",
   "execution_count": null,
   "id": "b196a1c3",
   "metadata": {},
   "outputs": [],
   "source": []
  },
  {
   "cell_type": "code",
   "execution_count": null,
   "id": "600f0245",
   "metadata": {},
   "outputs": [
    {
     "name": "stdout",
     "output_type": "stream",
     "text": [
      "Volver a intentar\n",
      "Contraseña incorrecta\n",
      "contreseña correcta\n"
     ]
    }
   ],
   "source": [
    "##### Challenge 🤺 - 20m\n",
    "#Escribir un programa que almacene una contraseña en una variable, y pregunte al usuario por la contraseña hasta \n",
    "# que introduzca la contraseña correcta.\n",
    "\n",
    "#Cuando el usuario ingrese la contrasena correcta, imprimir un mensaje secreto.\n",
    "#while infinito\n",
    "\n",
    "contraseña_correcta = '1234'\n",
    "\n",
    "\n",
    "while True:\n",
    "    contraseña = input('Ingrese contraseña')\n",
    "    if contraseña == contraseña_correcta:\n",
    "      print(\"contreseña correcta\")\n",
    "      break\n",
    "    else:\n",
    "      print('Volver a intentar')\n",
    "      print('Contraseña incorrecta')\n",
    "\n",
    "\n"
   ]
  },
  {
   "cell_type": "code",
   "execution_count": null,
   "id": "3de71a18",
   "metadata": {},
   "outputs": [],
   "source": [
    "#while (mientras)\n",
    "numero_a_adivinar = 10\n",
    "\n"
   ]
  },
  {
   "cell_type": "code",
   "execution_count": null,
   "id": "4aecfb40",
   "metadata": {},
   "outputs": [
    {
     "name": "stdout",
     "output_type": "stream",
     "text": [
      "Ñamano mba'e\n"
     ]
    }
   ],
   "source": [
    "#challenge 2\n",
    "## ### Challenge 🤺 - 30m\n",
    "\n",
    "#Escribir un programa en el que se pregunte al usuario por una temperatura (en grados Celsius), imprima la temperatura escrita, y luego clasificar la temperatura ingresada en los siguientes niveles:\n",
    "\n",
    "#Entre -10 y 18 grados, que imprima \"Fresquete\".\n",
    "#Entre 19 y 30 grados, que imprima \"Calor'i\".\n",
    "#Entre 31 y 45 grados, que imprima \"Hakuuuuuu\".\n",
    "#Para todo lo demás, imprimir \"Ñamano mba'e!\".\n",
    "\n",
    "\n",
    "def chequear_temperatura(temperatura):\n",
    "    if temperatura >= -10 and temperatura <= 18:\n",
    "        print(\"fresquete\")\n",
    "    elif temperatura >= 19 and temperatura <= 30:\n",
    "        print(\"Calor'i\")\n",
    "    elif temperatura >= 31 and temperatura <= 45:\n",
    "        print(\"Hakuuuuuu\")\n",
    "    else:\n",
    "        print(\"Ñamano mba'e\")\n",
    "\n",
    "temperatura = int(input('Cual es la temaperatura actual?'))\n",
    "chequear_temperatura(temperatura)\n"
   ]
  },
  {
   "cell_type": "code",
   "execution_count": 7,
   "id": "9929863c",
   "metadata": {},
   "outputs": [
    {
     "name": "stdout",
     "output_type": "stream",
     "text": [
      "Calor i\n"
     ]
    }
   ],
   "source": [
    "def chequear_temperatura(temperatura):\n",
    "\n",
    "    if temperatura > -10 and temperatura < 18:\n",
    "        print('fresquete')\n",
    "    elif temperatura >= 19 and temperatura <= 30:\n",
    "        print('Calor i')\n",
    "    elif temperatura >= 31 and temperatura <=45:\n",
    "        print('Hakuuuuuu')\n",
    "    else:\n",
    "        print('Ñamano mba e')\n",
    "\n",
    "chequear_temperatura(25)"
   ]
  },
  {
   "cell_type": "code",
   "execution_count": 18,
   "id": "4bc916ce",
   "metadata": {},
   "outputs": [
    {
     "name": "stdout",
     "output_type": "stream",
     "text": [
      "activo laboralmente\n"
     ]
    }
   ],
   "source": [
    "def chequear_edad(edad_laboral, trabaja):\n",
    "    if edad_laboral < 18:\n",
    "        print('Estudiante')\n",
    "    elif edad_laboral < 65 and trabaja == True:\n",
    "        print('activo laboralmente')\n",
    "    elif edad_laboral < 65 and trabaja == False:\n",
    "        print('desmpleado')\n",
    "    else:\n",
    "        print('Jubilado')\n",
    "\n",
    "chequear_edad(19, True)"
   ]
  },
  {
   "cell_type": "code",
   "execution_count": 4,
   "id": "45b36142",
   "metadata": {},
   "outputs": [
    {
     "name": "stdout",
     "output_type": "stream",
     "text": [
      "<class 'int'>\n"
     ]
    }
   ],
   "source": [
    "edad = input('ingesar edad')\n",
    "edad = int(edad)\n",
    "\n",
    "print(type(edad))"
   ]
  },
  {
   "cell_type": "code",
   "execution_count": 6,
   "id": "06a1cfcb",
   "metadata": {},
   "outputs": [
    {
     "name": "stdout",
     "output_type": "stream",
     "text": [
      "Hace lo que quieras\n"
     ]
    }
   ],
   "source": [
    "# Challenge 1\n",
    "edad = int(input('Cual es su edad?'))\n",
    "\n",
    "if edad < 18:\n",
    "    print('Juguito nomas')\n",
    "elif edad > 21:\n",
    "    print('Hace lo que quieras')\n",
    "else:\n",
    "    print('Podes tomar pero no comprar')\n",
    "\n"
   ]
  },
  {
   "cell_type": "code",
   "execution_count": 1,
   "id": "275a51c1",
   "metadata": {},
   "outputs": [
    {
     "name": "stdout",
     "output_type": "stream",
     "text": [
      "trajador\n"
     ]
    }
   ],
   "source": [
    "edad_individuo = 56\n",
    "\n",
    "if edad_individuo < 18:\n",
    "    print('Estudiante')\n",
    "elif edad_individuo > 65:\n",
    "    print('jubilado')\n",
    "else:\n",
    "    print('trajador')"
   ]
  }
 ],
 "metadata": {
  "kernelspec": {
   "display_name": "Python 3",
   "language": "python",
   "name": "python3"
  },
  "language_info": {
   "codemirror_mode": {
    "name": "ipython",
    "version": 3
   },
   "file_extension": ".py",
   "mimetype": "text/x-python",
   "name": "python",
   "nbconvert_exporter": "python",
   "pygments_lexer": "ipython3",
   "version": "3.13.3"
  }
 },
 "nbformat": 4,
 "nbformat_minor": 5
}
