{
 "cells": [
  {
   "cell_type": "code",
   "execution_count": null,
   "id": "ad89f362",
   "metadata": {},
   "outputs": [],
   "source": [
    "###DICCIONARIOS\n",
    "#ejemplo\n"
   ]
  },
  {
   "cell_type": "code",
   "execution_count": null,
   "id": "b2ce3607",
   "metadata": {},
   "outputs": [
    {
     "name": "stdout",
     "output_type": "stream",
     "text": [
      "{'nombre': 'juan', 'apellido': 'fex'}\n"
     ]
    }
   ],
   "source": [
    "## Challenge 1 🤺\n",
    "##Escribir un programa que cree un diccionario vacío y lo vaya llenado con información sobre una persona\n",
    "#(por ejemplo nombre, edad, sexo, teléfono, correo electrónico, etc.) que se le pida al usuario. \n",
    "#Cada vez que se añada un nuevo dato debe imprimirse el contenido del diccionario.\n",
    "\n",
    "\n",
    "#crear lissta vacia\n",
    "datos_de_la_persona = {}\n",
    "#Preguntar al usuario qué tipo de información quiere guardar (clave).\n",
    "\n",
    "datos_de_la_persona['nombre'] = input(\"Nombre de persona\")\n",
    "datos_de_la_persona['apellido'] = input(\"Agregar apellido\")\n",
    "\n",
    "\n",
    "\n",
    "\n",
    "\n",
    "\n",
    "print(datos_de_la_persona)"
   ]
  },
  {
   "cell_type": "code",
   "execution_count": 4,
   "id": "d20ce322",
   "metadata": {},
   "outputs": [
    {
     "name": "stdout",
     "output_type": "stream",
     "text": [
      "que accion desea realizar?\n",
      "1 Crear un nuevo dato?\n",
      "2 Modificar nuevo dato?\n",
      "3 Eliminar nuevo dato\n"
     ]
    },
    {
     "ename": "KeyboardInterrupt",
     "evalue": "Interrupted by user",
     "output_type": "error",
     "traceback": [
      "\u001b[31m---------------------------------------------------------------------------\u001b[39m",
      "\u001b[31mKeyboardInterrupt\u001b[39m                         Traceback (most recent call last)",
      "\u001b[36mCell\u001b[39m\u001b[36m \u001b[39m\u001b[32mIn[4]\u001b[39m\u001b[32m, line 29\u001b[39m\n\u001b[32m     27\u001b[39m \u001b[38;5;28;01melif\u001b[39;00m elegir_opcion == \u001b[32m2\u001b[39m:\n\u001b[32m     28\u001b[39m     tarjeta_personal.keys()\n\u001b[32m---> \u001b[39m\u001b[32m29\u001b[39m     clave = \u001b[38;5;28;43minput\u001b[39;49m\u001b[43m(\u001b[49m\u001b[33;43m\"\u001b[39;49m\u001b[33;43mingresar la clave a modificar\u001b[39;49m\u001b[33;43m\"\u001b[39;49m\u001b[43m)\u001b[49m\n\u001b[32m     30\u001b[39m     valor = \u001b[38;5;28minput\u001b[39m(\u001b[33m\"\u001b[39m\u001b[33mingresar nuevo valor\u001b[39m\u001b[33m\"\u001b[39m)\n\u001b[32m     31\u001b[39m     tarjeta_personal[clave] = valor\n",
      "\u001b[36mFile \u001b[39m\u001b[32m~\\AppData\\Roaming\\Python\\Python313\\site-packages\\ipykernel\\kernelbase.py:1282\u001b[39m, in \u001b[36mKernel.raw_input\u001b[39m\u001b[34m(self, prompt)\u001b[39m\n\u001b[32m   1280\u001b[39m     msg = \u001b[33m\"\u001b[39m\u001b[33mraw_input was called, but this frontend does not support input requests.\u001b[39m\u001b[33m\"\u001b[39m\n\u001b[32m   1281\u001b[39m     \u001b[38;5;28;01mraise\u001b[39;00m StdinNotImplementedError(msg)\n\u001b[32m-> \u001b[39m\u001b[32m1282\u001b[39m \u001b[38;5;28;01mreturn\u001b[39;00m \u001b[38;5;28;43mself\u001b[39;49m\u001b[43m.\u001b[49m\u001b[43m_input_request\u001b[49m\u001b[43m(\u001b[49m\n\u001b[32m   1283\u001b[39m \u001b[43m    \u001b[49m\u001b[38;5;28;43mstr\u001b[39;49m\u001b[43m(\u001b[49m\u001b[43mprompt\u001b[49m\u001b[43m)\u001b[49m\u001b[43m,\u001b[49m\n\u001b[32m   1284\u001b[39m \u001b[43m    \u001b[49m\u001b[38;5;28;43mself\u001b[39;49m\u001b[43m.\u001b[49m\u001b[43m_parent_ident\u001b[49m\u001b[43m[\u001b[49m\u001b[33;43m\"\u001b[39;49m\u001b[33;43mshell\u001b[39;49m\u001b[33;43m\"\u001b[39;49m\u001b[43m]\u001b[49m\u001b[43m,\u001b[49m\n\u001b[32m   1285\u001b[39m \u001b[43m    \u001b[49m\u001b[38;5;28;43mself\u001b[39;49m\u001b[43m.\u001b[49m\u001b[43mget_parent\u001b[49m\u001b[43m(\u001b[49m\u001b[33;43m\"\u001b[39;49m\u001b[33;43mshell\u001b[39;49m\u001b[33;43m\"\u001b[39;49m\u001b[43m)\u001b[49m\u001b[43m,\u001b[49m\n\u001b[32m   1286\u001b[39m \u001b[43m    \u001b[49m\u001b[43mpassword\u001b[49m\u001b[43m=\u001b[49m\u001b[38;5;28;43;01mFalse\u001b[39;49;00m\u001b[43m,\u001b[49m\n\u001b[32m   1287\u001b[39m \u001b[43m\u001b[49m\u001b[43m)\u001b[49m\n",
      "\u001b[36mFile \u001b[39m\u001b[32m~\\AppData\\Roaming\\Python\\Python313\\site-packages\\ipykernel\\kernelbase.py:1325\u001b[39m, in \u001b[36mKernel._input_request\u001b[39m\u001b[34m(self, prompt, ident, parent, password)\u001b[39m\n\u001b[32m   1322\u001b[39m \u001b[38;5;28;01mexcept\u001b[39;00m \u001b[38;5;167;01mKeyboardInterrupt\u001b[39;00m:\n\u001b[32m   1323\u001b[39m     \u001b[38;5;66;03m# re-raise KeyboardInterrupt, to truncate traceback\u001b[39;00m\n\u001b[32m   1324\u001b[39m     msg = \u001b[33m\"\u001b[39m\u001b[33mInterrupted by user\u001b[39m\u001b[33m\"\u001b[39m\n\u001b[32m-> \u001b[39m\u001b[32m1325\u001b[39m     \u001b[38;5;28;01mraise\u001b[39;00m \u001b[38;5;167;01mKeyboardInterrupt\u001b[39;00m(msg) \u001b[38;5;28;01mfrom\u001b[39;00m\u001b[38;5;250m \u001b[39m\u001b[38;5;28;01mNone\u001b[39;00m\n\u001b[32m   1326\u001b[39m \u001b[38;5;28;01mexcept\u001b[39;00m \u001b[38;5;167;01mException\u001b[39;00m:\n\u001b[32m   1327\u001b[39m     \u001b[38;5;28mself\u001b[39m.log.warning(\u001b[33m\"\u001b[39m\u001b[33mInvalid Message:\u001b[39m\u001b[33m\"\u001b[39m, exc_info=\u001b[38;5;28;01mTrue\u001b[39;00m)\n",
      "\u001b[31mKeyboardInterrupt\u001b[39m: Interrupted by user"
     ]
    }
   ],
   "source": [
    "#### Challenge 2 🤺\n",
    "\n",
    "#Challenge 2 🤺\n",
    "#Crear una tarjeta personal. El usuario (mediante input) puede elegir:\n",
    "\n",
    "#1. Crear datos nuevos\n",
    "#2. Modificar datos\n",
    "#3. Eliminar datos\n",
    "\n",
    "#crear lista\n",
    "tarjeta_personal = {\"Nombre\": \"Benicio\", \"Apellido\": \"Ferreira\"}\n",
    "\n",
    "##preguntar\n",
    "\n",
    "\n",
    "preguntar_al_usuario = input(\"desea crear,modificar o eliminar algun dato? 'si' o 'no'\")\n",
    "while preguntar_al_usuario == \"si\":\n",
    "    print(\"que accion desea realizar?\")\n",
    "    print(\"1 Crear un nuevo dato?\")\n",
    "    print(\"2 Modificar nuevo dato?\")\n",
    "    print(\"3 Eliminar nuevo dato\")\n",
    "    elegir_opcion = int(input(\"Ingresar numero de opcion\"))\n",
    "    if elegir_opcion == 1:\n",
    "        nuevo_dato = input(\"Ingresar nombre del dato\")\n",
    "        detalles = input(\"ingresar detalles\")\n",
    "        tarjeta_personal[nuevo_dato] = detalles\n",
    "    elif elegir_opcion == 2:\n",
    "        tarjeta_personal.keys()\n",
    "        clave = input(\"ingresar la clave a modificar\")\n",
    "        valor = input(\"ingresar nuevo valor\")\n",
    "        tarjeta_personal[clave] = valor\n",
    "    \n",
    "    elif elegir_opcion == 3:\n",
    "        tarjeta_personal.keys()\n",
    "        clave = input(\"ingresar la clave a eliminar\")\n",
    "        del tarjeta_personal[clave]\n",
    "\n",
    "    else:\n",
    "        print(\"opcion no valida\")\n",
    "\n",
    "    break\n",
    "        \n",
    "    \n",
    "\n",
    "\n",
    "\n",
    "\n",
    "\n",
    "    \n",
    "\n",
    "print(tarjeta_personal)\n",
    "\n"
   ]
  },
  {
   "cell_type": "code",
   "execution_count": null,
   "id": "a7ed0d5b",
   "metadata": {},
   "outputs": [
    {
     "name": "stdout",
     "output_type": "stream",
     "text": [
      "{'Benicio': {'apellido': 'Ferreira', 'celular': '971864551'}, 'Vanesa': {'apellido': 'benitez', 'celular': '982430540'}}\n"
     ]
    }
   ],
   "source": [
    "##### Challenge 3 🤺\n",
    "#Crear una agenda de contactos. El usuario puede elegir:\n",
    "\n",
    "#1. Mostrar los contactos\n",
    "#2. Crear contacto\n",
    "#3. Modificar datos del contacto\n",
    "\n",
    "contactos = {\"Benicio\":{\"apellido\": \"Ferreira\", \"celular\": \"971864551\"},\n",
    "              \"Vanesa\":{\"apellido\": \"benitez\", \"celular\": \"982430540\"}}\n",
    "\n",
    "crear_contacto = input(\"ingrese nombre del contacto\")\n",
    "contactos\n",
    "\n",
    "print(contactos)"
   ]
  },
  {
   "cell_type": "code",
   "execution_count": 29,
   "id": "d46d5fcc",
   "metadata": {},
   "outputs": [
    {
     "name": "stdout",
     "output_type": "stream",
     "text": [
      "cuando hablo digo: miau\n",
      "cuando estoy aburrido: araño cosas\n"
     ]
    }
   ],
   "source": [
    "## Challenge 🤺\n",
    "#Crear dos métodos para nuestro animal y ejecutar, debe ser algo específico de ese animal.\n",
    "\n",
    "#Ejemplo: \"Cuando hablo, digo X\".\n",
    "#Ejemplo: \"Cuando me muevo, hago X\".\n",
    "\n",
    "class Gato:\n",
    "    #atributos de clase ocomunes\n",
    "    patas = 4\n",
    "    orejas = 2\n",
    "    cola = 1\n",
    "    #atributos de instancia\n",
    "    def __init__(self, color, raza):\n",
    "        self.color = color\n",
    "        self.raza = raza\n",
    "\n",
    "    #metodos    \n",
    "    def maullar(self):\n",
    "\n",
    "        return(\"cuando hablo digo: miau\")\n",
    "        \n",
    "\n",
    "    def arañar(self):\n",
    "        return(\"cuando estoy aburrido: araño cosas\")\n",
    "\n",
    "kone = Gato(\"gris\", \"delmer\")\n",
    "\n",
    "print(kone.maullar())\n",
    "print(kone.arañar())"
   ]
  },
  {
   "cell_type": "code",
   "execution_count": 19,
   "id": "364ab719",
   "metadata": {},
   "outputs": [
    {
     "name": "stdout",
     "output_type": "stream",
     "text": [
      "cuando hablo digo: miau\n",
      "cuando estoy aburrido: araño cosas\n"
     ]
    }
   ],
   "source": [
    "###definiendo solo Argumentos\n",
    "\n",
    "class Gato:\n",
    "    def maullar(self):\n",
    "\n",
    "        return(\"cuando hablo digo: miau\")\n",
    "        \n",
    "\n",
    "    def arañar(self):\n",
    "        return(\"cuando estoy aburrido: araño cosas\")\n",
    "\n",
    "kone = Gato()\n",
    "\n",
    "print(kone.maullar())\n",
    "print(kone.arañar())"
   ]
  },
  {
   "cell_type": "code",
   "execution_count": null,
   "id": "66594c69",
   "metadata": {},
   "outputs": [
    {
     "name": "stdout",
     "output_type": "stream",
     "text": [
      "cuando hablo digo: char char\n",
      "uso ataque: araño a mi rival\n"
     ]
    },
    {
     "ename": "TypeError",
     "evalue": "'Evolucion' object is not callable",
     "output_type": "error",
     "traceback": [
      "\u001b[31m---------------------------------------------------------------------------\u001b[39m",
      "\u001b[31mTypeError\u001b[39m                                 Traceback (most recent call last)",
      "\u001b[36mCell\u001b[39m\u001b[36m \u001b[39m\u001b[32mIn[27]\u001b[39m\u001b[32m, line 48\u001b[39m\n\u001b[32m     44\u001b[39m char = Evolucion(\u001b[33m\"\u001b[39m\u001b[33mfuego\u001b[39m\u001b[33m\"\u001b[39m, \u001b[33m\"\u001b[39m\u001b[33msalamandra\u001b[39m\u001b[33m\"\u001b[39m)\n\u001b[32m     45\u001b[39m charmi = Segunda_Evolucion(\u001b[33m\"\u001b[39m\u001b[33mfuego\u001b[39m\u001b[33m\"\u001b[39m, \u001b[33m\"\u001b[39m\u001b[33mvolador\u001b[39m\u001b[33m\"\u001b[39m)\n\u001b[32m---> \u001b[39m\u001b[32m48\u001b[39m \u001b[43mchar\u001b[49m\u001b[43m(\u001b[49m\u001b[43m)\u001b[49m\n\u001b[32m     49\u001b[39m \u001b[38;5;28mprint\u001b[39m(charmi.nueva_habilidad())\n",
      "\u001b[31mTypeError\u001b[39m: 'Evolucion' object is not callable"
     ]
    }
   ],
   "source": [
    "#### Challenge 🤺\n",
    "##Definir una clase madre que herede a sus clases hijas dos atributos de instancia. \n",
    "##Mostrar ambos atributos en pantalla desde los objetos de las clases hijas.\n",
    "#Observación: Editar las clases hijas para que no se inicialicen.\n",
    "\n",
    "\n",
    "class Pokemon:\n",
    "    #atributos de clase ocomunes\n",
    "    patas = 4\n",
    "    orejas = 2\n",
    "    cola = 1\n",
    "    #atributos de instancia\n",
    "    def __init__(self, tipo, subtipo):\n",
    "        self.tipo = tipo\n",
    "        self.raza = subtipo\n",
    "\n",
    "    #metodos    \n",
    "    def grito(self):\n",
    "\n",
    "        return(\"cuando hablo digo: char char\")\n",
    "        \n",
    "\n",
    "    def arañar(self):\n",
    "        return(\"uso ataque: araño a mi rival\")\n",
    "\n",
    "charchar = Pokemon(\"gris\", \"delmer\")\n",
    "\n",
    "print(charchar.grito())\n",
    "print(charchar.arañar())\n",
    "\n",
    "class Evolucion(Pokemon):\n",
    "    alas = 2\n",
    "\n",
    "    def nuevo_ataque(self):\n",
    "\n",
    "        return \"usar nuevo ataque\"\n",
    "    \n",
    "class Segunda_Evolucion(Pokemon):\n",
    "\n",
    "    def nueva_habilidad(self):\n",
    "\n",
    "        return \"usar nueva habilidad\"\n",
    "    \n",
    "char = Evolucion(\"fuego\", \"salamandra\")\n",
    "charmi = Segunda_Evolucion(\"fuego\", \"volador\")\n",
    "\n",
    "\n",
    "print(charmi.nueva_habilidad())"
   ]
  }
 ],
 "metadata": {
  "kernelspec": {
   "display_name": "Python 3",
   "language": "python",
   "name": "python3"
  },
  "language_info": {
   "codemirror_mode": {
    "name": "ipython",
    "version": 3
   },
   "file_extension": ".py",
   "mimetype": "text/x-python",
   "name": "python",
   "nbconvert_exporter": "python",
   "pygments_lexer": "ipython3",
   "version": "3.13.3"
  }
 },
 "nbformat": 4,
 "nbformat_minor": 5
}
