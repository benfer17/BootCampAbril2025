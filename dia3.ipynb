{
 "cells": [
  {
   "cell_type": "code",
   "execution_count": null,
   "id": "4cf54adf",
   "metadata": {},
   "outputs": [],
   "source": []
  },
  {
   "cell_type": "code",
   "execution_count": null,
   "id": "abc4e47b",
   "metadata": {},
   "outputs": [
    {
     "name": "stdout",
     "output_type": "stream",
     "text": [
      "['jesus']\n"
     ]
    }
   ],
   "source": [
    "\n",
    "palabra_a_encontrar = \"jesus\"\n",
    "\n",
    "cantidad_de_letras = 5\n",
    "\n",
    "cantidad_de_intentos = 6\n",
    "\n",
    "palabra_verificada = []\n",
    "\n",
    "def palabra_verificada(palabra_ingresada, palabra_a_encontrar):\n",
    "    for posicion in palabra_a_encontrar:\n",
    "        letras_son_iguales = palabra_a_encontrar[posicion] == palabra_ingresada[posicion]\n",
    "\n",
    "\n",
    "\n",
    "    "
   ]
  },
  {
   "cell_type": "code",
   "execution_count": null,
   "id": "30dac702",
   "metadata": {},
   "outputs": [
    {
     "ename": "SyntaxError",
     "evalue": "invalid syntax (426771254.py, line 30)",
     "output_type": "error",
     "traceback": [
      "  \u001b[36mCell\u001b[39m\u001b[36m \u001b[39m\u001b[32mIn[7]\u001b[39m\u001b[32m, line 30\u001b[39m\n\u001b[31m    \u001b[39m\u001b[31mif\u001b[39m\n       ^\n\u001b[31mSyntaxError\u001b[39m\u001b[31m:\u001b[39m invalid syntax\n"
     ]
    }
   ],
   "source": [
    "####crear el juego \"la palabra del dia\"\n",
    "####iniciar juego\n",
    "#DEFINIR palabra_a_encontrar\n",
    "#DEFINIR cantidad_de_letras\n",
    "#definar intentos\n",
    "#crear grilla vacia(lista para mostrar el progreso del jugador)\n",
    "\n",
    "#MOSTRAR mensaje de bienvenida\n",
    "\n",
    "palabra_a_encontrar = \"jesus\"\n",
    "\n",
    "cantidad_de_letras = 5\n",
    "\n",
    "cantidad_de_intentos = 6\n",
    "\n",
    "grilla_vacia = []\n",
    "\n",
    "print(\"Adivina la palabra\")\n",
    "\n",
    "#crear condicion para que la palabra pase solo si tiene 5 letras\n",
    "palabra_ingresada = input(\"\")\n",
    "if len(palabra_ingresada) == 5:\n",
    "    print(palabra_ingresada)\n",
    "\n",
    "#convertir la palabra a encontrar en una lista letra por letra\n",
    "palabra_a_encontrar_lista = list(palabra_a_encontrar)\n",
    "\n",
    "for posicion in range(cantidad_de_letras):\n",
    "        \n",
    "\n",
    "\n",
    "\n",
    "\n",
    "\n",
    "\n"
   ]
  },
  {
   "cell_type": "code",
   "execution_count": null,
   "id": "26f5bcff",
   "metadata": {},
   "outputs": [],
   "source": [
    "#con for #ejemplo de compañero\n",
    "lista = [['h', 'o', 'l', 'i', 's'], ['h', 'e', 'l', 'l', 'o'], ['h', 'a', 'l', 'l', 'o']]\n",
    "\n",
    "# #crear funcion que imprima la lista de listas una linea por cada lista.\n",
    "def imprimir_con_salto(lista_a_imprimir):\n",
    "    for i in lista_a_imprimir:\n",
    "        lista = list(i)\n",
    "        print(lista)\n",
    "\n",
    "imprimir_con_salto(lista_ejemplo)"
   ]
  },
  {
   "cell_type": "code",
   "execution_count": null,
   "id": "7117e115",
   "metadata": {},
   "outputs": [
    {
     "name": "stdout",
     "output_type": "stream",
     "text": [
      "['h', 'o', 'l', 'i', 's']\n",
      "['h', 'e', 'l', 'l', 'o']\n",
      "['h', 'a', 'l', 'l', 'o']\n"
     ]
    }
   ],
   "source": [
    "#con funcion\n",
    "\n",
    "lista = [['h', 'o', 'l', 'i', 's'], ['h', 'e', 'l', 'l', 'o'], ['h', 'a', 'l', 'l', 'o']]\n",
    "def imprimir_lista (lista):\n",
    "    print(lista[0])\n",
    "    print(lista[1])\n",
    "    print(lista[2])\n",
    "imprimir_lista(lista)"
   ]
  },
  {
   "cell_type": "code",
   "execution_count": 36,
   "id": "02ce3e99",
   "metadata": {},
   "outputs": [
    {
     "name": "stdout",
     "output_type": "stream",
     "text": [
      "['h', 'o', 'l', 'i', 's']\n",
      "['h', 'e', 'l', 'l', 'o']\n",
      "['h', 'a', 'l', 'l', 'o']\n"
     ]
    }
   ],
   "source": [
    "### Challenge 6 🤺 - 25m\n",
    "\n",
    "#Dada la lista de ejemplo: \n",
    "\n",
    "#lista = [['h', 'o', 'l', 'i', 's'], ['h', 'e', 'l', 'l', 'o'], ['h', 'a', 'l', 'l', 'o']]\n",
    "\n",
    "#Crear una función que imprima una grilla (lista de listas), una línea por cada lista dentro de la lista principal.\n",
    "\n",
    "#Ejemplo del resultado esperado:\n",
    "#['h', 'o', 'l', 'i', 's']\n",
    "#['h', 'e', 'l', 'l', 'o']\n",
    "#['h', 'a', 'l', 'l', 'o']\n",
    "\n",
    "lista = [['h', 'o', 'l', 'i', 's'], ['h', 'e', 'l', 'l', 'o'], ['h', 'a', 'l', 'l', 'o']]\n",
    "print(lista[0])\n",
    "print(lista[1])\n",
    "print(lista[2])\n",
    "\n"
   ]
  },
  {
   "cell_type": "code",
   "execution_count": 34,
   "id": "c1328c47",
   "metadata": {},
   "outputs": [
    {
     "ename": "SyntaxError",
     "evalue": "expected ':' (2277327355.py, line 3)",
     "output_type": "error",
     "traceback": [
      "  \u001b[36mCell\u001b[39m\u001b[36m \u001b[39m\u001b[32mIn[34]\u001b[39m\u001b[32m, line 3\u001b[39m\n\u001b[31m    \u001b[39m\u001b[31mdef palabras(palabra_1, palabra_2, palabra_3)\u001b[39m\n                                                 ^\n\u001b[31mSyntaxError\u001b[39m\u001b[31m:\u001b[39m expected ':'\n"
     ]
    }
   ],
   "source": [
    "palabras_ingresadas = []\n",
    "\n",
    "def palabras(palabra_1, palabra_2, palabra_3)\n",
    "\n",
    "palabras_ingresadas.append(palabras)\n",
    "\n",
    "palabras('alan', 'terry', 'bel' )\n",
    "\n",
    "print(palabras_ingresadas)"
   ]
  },
  {
   "cell_type": "code",
   "execution_count": null,
   "id": "71bf913c",
   "metadata": {},
   "outputs": [
    {
     "name": "stdout",
     "output_type": "stream",
     "text": [
      "['o', 'l', 'a']\n"
     ]
    }
   ],
   "source": [
    "### Challenge 5 🤺 - 25m\n",
    "\n",
    "#Pedir al usuario que ingrese 1 palabra, luego convertir esa palabra a una lista\n",
    "#  con sus caracteres con `list()`. Agregar esa lista de caracteres a una lista llamada `palabras_ingresadas`\n",
    "# . Repetir el proceso 3 veces. Cada vez que se agregue una lista de caracteres, imprimir la lista `palabras_ingresadas`.\n",
    "\n",
    "#Ejemplo del resultado esperado:\n",
    "#```[['c', 'i', 'e', 'l', 'o']]``` # Al ingresar la primera palabra\n",
    "#```[['c', 'i', 'e', 'l', 'o'], ['c', 'a', 'l', 'o', 'r']]``` # Al ingresar la segunda palabra\n",
    "#```[['c', 'i', 'e', 'l', 'o'], ['c', 'a', 'l', 'o', 'r'], ['n', 'u', 'b', 'e', 's']]```\n",
    "#  # Al ingresar la tercera palabra\n",
    "\n",
    "#crear variables\n",
    "palabras_ingresadas = []\n",
    "\n",
    "\n",
    "\n",
    "for i in palabra range(3):\n",
    "    palabra = list(input('ingresar palabra'))\n",
    "    palabras_ingresadas.append(palabra)\n",
    "    \n",
    "\n",
    "\n",
    "\n",
    "                        \n",
    "\n",
    "\n"
   ]
  },
  {
   "cell_type": "code",
   "execution_count": 29,
   "id": "3ce1f552",
   "metadata": {},
   "outputs": [
    {
     "data": {
      "text/plain": [
       "True"
      ]
     },
     "execution_count": 29,
     "metadata": {},
     "output_type": "execute_result"
    }
   ],
   "source": [
    "### Challenge 3 🤺 - 20m\n",
    "\n",
    "#Crear una función que reciba dos parámetros (una palabra y un número), y que retorne `True` si el número\n",
    "#  es igual a la cantidad de letras de la palabra.\n",
    "#  En caso contrario, que retorne `False`.\n",
    "#Pista: `cantidad de letras de una palabra en python`\n",
    "\n",
    "##crear variables\n",
    "\n",
    "\n",
    "def recibir_palabra_numero(palabra, numero):\n",
    "        if len(palabra) == numero:\n",
    "            return True\n",
    "        else:\n",
    "            return False\n",
    "        \n",
    "palabra = input('ingresar palabra')\n",
    "numero = int(input('ingresar numero'))\n",
    "\n",
    "recibir_palabra_numero(palabra, numero)"
   ]
  },
  {
   "cell_type": "code",
   "execution_count": 15,
   "id": "9f3b39ed",
   "metadata": {},
   "outputs": [
    {
     "ename": "NameError",
     "evalue": "name 'sumar' is not defined",
     "output_type": "error",
     "traceback": [
      "\u001b[31m---------------------------------------------------------------------------\u001b[39m",
      "\u001b[31mNameError\u001b[39m                                 Traceback (most recent call last)",
      "\u001b[36mCell\u001b[39m\u001b[36m \u001b[39m\u001b[32mIn[15]\u001b[39m\u001b[32m, line 7\u001b[39m\n\u001b[32m      3\u001b[39m     \u001b[38;5;28;01mreturn\u001b[39;00m sumar\n\u001b[32m      5\u001b[39m sumatoria(\u001b[32m1\u001b[39m, \u001b[32m2\u001b[39m)\n\u001b[32m----> \u001b[39m\u001b[32m7\u001b[39m suma1 = \u001b[43msumar\u001b[49m\n\u001b[32m      8\u001b[39m total = suma1 + \u001b[32m1\u001b[39m\n\u001b[32m      9\u001b[39m \u001b[38;5;28mprint\u001b[39m(total)\n",
      "\u001b[31mNameError\u001b[39m: name 'sumar' is not defined"
     ]
    }
   ],
   "source": [
    "def sumatoria (numero1, numero2):\n",
    "    sumar = numero1 + numero2\n",
    "    return sumar\n",
    "\n",
    "sumatoria(1, 2)\n",
    "\n",
    "suma1 = sumar\n",
    "total = suma1 + 1\n",
    "print(total)"
   ]
  },
  {
   "cell_type": "code",
   "execution_count": 13,
   "id": "4886550e",
   "metadata": {},
   "outputs": [
    {
     "name": "stdout",
     "output_type": "stream",
     "text": [
      "las letras son diferentes\n"
     ]
    }
   ],
   "source": [
    "#con input\n",
    "\n",
    "##crear variables\n",
    "letra_1 = input('ingrese primera letra')\n",
    "letra_2 = input('ingrese segunda letra')\n",
    "##crear funcion\n",
    "def comparar_letra(letra1, letra2):\n",
    "    if letra1 == letra2:\n",
    "        print(\"las letras son iguales\")\n",
    "    else:\n",
    "        print(\"las letras son diferentes\")\n",
    "\n",
    "##llamar a la funcion y definir las variables\n",
    "comparar_letra(letra_1, letra_2)\n"
   ]
  },
  {
   "cell_type": "code",
   "execution_count": null,
   "id": "fac12979",
   "metadata": {},
   "outputs": [
    {
     "name": "stdout",
     "output_type": "stream",
     "text": [
      "las letras son diferentes\n"
     ]
    }
   ],
   "source": [
    "## Challenge 2 🤺 - 20 min\n",
    "#Crear una función que reciba dos letras (parámetros) y que verifique si son iguales:\n",
    "\n",
    "#1. Si son iguales, imprimir \"Las letras son iguales\".\n",
    "#2. De lo contrario, imprimir \"Las letras son diferentes\".\n",
    "\n",
    "def comparar_letras(letra1, letra2):\n",
    "    locals\n",
    "comparar_letras('a,', 'b')"
   ]
  },
  {
   "cell_type": "code",
   "execution_count": 5,
   "id": "49c11cc6",
   "metadata": {},
   "outputs": [
    {
     "name": "stdout",
     "output_type": "stream",
     "text": [
      "Tom\n"
     ]
    }
   ],
   "source": [
    "## Challenge 1 🤺 - 10m\n",
    "\n",
    "#Crear una función que imprima la variable palabra.\n",
    "palabra = 'Tom'\n",
    "def imprimir_palabra():\n",
    "    print(palabra)\n",
    "imprimir_palabra()\n",
    "\n"
   ]
  },
  {
   "cell_type": "code",
   "execution_count": 2,
   "id": "9bf117c5",
   "metadata": {},
   "outputs": [
    {
     "name": "stdout",
     "output_type": "stream",
     "text": [
      "hola mundo\n"
     ]
    }
   ],
   "source": [
    "def imprimir_saludo():\n",
    "    print(\"hola mundo\")\n",
    "imprimir_saludo()"
   ]
  }
 ],
 "metadata": {
  "kernelspec": {
   "display_name": "Python 3",
   "language": "python",
   "name": "python3"
  },
  "language_info": {
   "codemirror_mode": {
    "name": "ipython",
    "version": 3
   },
   "file_extension": ".py",
   "mimetype": "text/x-python",
   "name": "python",
   "nbconvert_exporter": "python",
   "pygments_lexer": "ipython3",
   "version": "3.13.3"
  }
 },
 "nbformat": 4,
 "nbformat_minor": 5
}
